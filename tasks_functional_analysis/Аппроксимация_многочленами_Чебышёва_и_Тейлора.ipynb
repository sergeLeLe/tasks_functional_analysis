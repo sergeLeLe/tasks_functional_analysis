{
 "cells": [
  {
   "cell_type": "markdown",
   "metadata": {},
   "source": [
    "Аппроксимировать функцию $x = x(t)$ на промежутке $[-1;1]$ двумя способами:\n",
    "1. при помощи ортогональных многочленов Чебышёва I рода;\n",
    "2. при помощи многочлена Тейлораа (в точке $t_0 = 0$).<br>\n",
    "\n",
    "Число n - заданный порядок аппроксимации. Построить графики функции $x$ и полученных аппроксимаций. Ответить на следующие вопросы, обосновав ответы численно:\n",
    "\n",
    "* какой способ дает лучшую аппроксимацию вблизи нуля?\n",
    "* какой способ дает лучшую равномерную аппроксимацию на промежутке [-1,1]?\n",
    "<br>\n",
    "\n",
    "\n",
    "$$\n",
    "17)\\ x(t) = (t - 2t^2) e^{-t^2}, \\ n = 4\n",
    "$$\n"
   ]
  },
  {
   "cell_type": "markdown",
   "metadata": {},
   "source": [
    "### А) Аппроксимация многочленами Чебышёва I рода"
   ]
  },
  {
   "cell_type": "markdown",
   "metadata": {},
   "source": [
    "**Многочлены Чебышёва I рода в гильбертовом пространстве:** \n",
    "$$\n",
    "L^{2,\\xi}(-1;1), \\ \\xi(t) = \\frac{1}{\\sqrt{1-t^2}}\n",
    "$$"
   ]
  },
  {
   "cell_type": "code",
   "execution_count": 145,
   "metadata": {},
   "outputs": [],
   "source": [
    "import numpy as np\n",
    "from sympy import *\n",
    "init_printing()\n",
    "\n",
    "p,t = symbols('p t')\n",
    "\n",
    "p_norm = symbols('p_norm')\n",
    "p_norm = [] #ортонормированные многочлены Чебышёва\n",
    "norma = 0"
   ]
  },
  {
   "cell_type": "markdown",
   "metadata": {},
   "source": [
    "**Нормируем ортогональный базис, образованный многочленами Чебышёва I рода:**"
   ]
  },
  {
   "cell_type": "code",
   "execution_count": 146,
   "metadata": {},
   "outputs": [],
   "source": [
    "for i in range(0, 5):\n",
    "    p = chebyshevt(i,t)\n",
    "    norma = sqrt(integrate((p**2)*(1/sqrt(1-t**2)), (t, -1, 1)))\n",
    "    p_norm.append(p/norma)"
   ]
  },
  {
   "cell_type": "markdown",
   "metadata": {},
   "source": [
    "Обозначим этот полученный  ортонормированный базис следующим образом:\n",
    "\n",
    "$$\n",
    "\\{T_0(t), T_1(t), ..., T_k(t), ...\\}\n",
    "$$\n",
    "\n",
    "Вывод базисных полиномов:"
   ]
  },
  {
   "cell_type": "code",
   "execution_count": 147,
   "metadata": {},
   "outputs": [
    {
     "data": {
      "image/png": "[encoded data removed]",
      "text/latex": [
       "$\\displaystyle \\left[ \\frac{1}{\\sqrt{\\pi}}, \\  \\frac{\\sqrt{2} t}{\\sqrt{\\pi}}, \\  \\frac{\\sqrt{2} \\left(2 t^{2} - 1\\right)}{\\sqrt{\\pi}}, \\  \\frac{\\sqrt{2} \\left(4 t^{3} - 3 t\\right)}{\\sqrt{\\pi}}, \\  \\frac{\\sqrt{2} \\left(8 t^{4} - 8 t^{2} + 1\\right)}{\\sqrt{\\pi}}\\right]$"
      ],
      "text/plain": [
       "⎡             ⎛   2    ⎞     ⎛   3      ⎞     ⎛   4      2    ⎞⎤\n",
       "⎢1   √2⋅t  √2⋅⎝2⋅t  - 1⎠  √2⋅⎝4⋅t  - 3⋅t⎠  √2⋅⎝8⋅t  - 8⋅t  + 1⎠⎥\n",
       "⎢──, ────, ─────────────, ───────────────, ────────────────────⎥\n",
       "⎣√π   √π         √π              √π                 √π         ⎦"
      ]
     },
     "execution_count": 147,
     "metadata": {},
     "output_type": "execute_result"
    }
   ],
   "source": [
    "p_norm"
   ]
  },
  {
   "cell_type": "markdown",
   "metadata": {},
   "source": [
    "**Вычислим коэффициенты Фурье для функции x:**\n",
    "\n",
    "$$\n",
    "c_k = (x, T_k)_\\xi = \\int_{-1}^{1} \\frac{(t - 2t^2) e^{-t^2} T_k(t)}{\\sqrt{1-t^2}} dt\n",
    "$$"
   ]
  },
  {
   "cell_type": "code",
   "execution_count": 148,
   "metadata": {},
   "outputs": [],
   "source": [
    "x,a = symbols('x a')\n",
    "x = (t - 2*t**2)*exp(-t**2)\n",
    "c = [] #коэф. фурье\n",
    "\n",
    "for i in range(0, 5):\n",
    "    a = simplify(x * p_norm[i] * (1/sqrt(1-t**2)))\n",
    "    c.append(Integral(a,(t,-1,1)).evalf())"
   ]
  },
  {
   "cell_type": "markdown",
   "metadata": {},
   "source": [
    "Вывод коэффициентов Фурье:"
   ]
  },
  {
   "cell_type": "code",
   "execution_count": 149,
   "metadata": {},
   "outputs": [
    {
     "name": "stdout",
     "output_type": "stream",
     "text": [
      "c_0= -0.866046594110717\n",
      "c_1= 0.612387419519202\n",
      "c_2= -0.440597223031023\n",
      "c_3= -0.171790196488179\n",
      "c_4= 0.149546732867026\n"
     ]
    }
   ],
   "source": [
    "for i in range(0, 5):\n",
    "    print(\"c_{0}= {1}\".format(i,c[i]))"
   ]
  },
  {
   "cell_type": "markdown",
   "metadata": {},
   "source": [
    "**Составим для функции $x$ частичную сумму ряда Фурье (4-го порядка) по системе многочленов Чебышёва I рода:**\n",
    "\n",
    "$$\n",
    "Cheb_4(t) = \\sum\\limits_{k=0}^4 c_k T_k (t)\n",
    "$$"
   ]
  },
  {
   "cell_type": "code",
   "execution_count": 150,
   "metadata": {},
   "outputs": [],
   "source": [
    "s_k, temp = symbols('s_k temp')\n",
    "s_k = [] #частичные суммы ряда Фурье\n",
    "\n",
    "temp = c[0]*p_norm[0]\n",
    "s_k.append(temp)\n",
    "\n",
    "for i in range(1,5):\n",
    "    temp = c[i]*p_norm[i]\n",
    "    s_k.append(s_k[i-1] + temp)"
   ]
  },
  {
   "cell_type": "code",
   "execution_count": 151,
   "metadata": {},
   "outputs": [
    {
     "data": {
      "image/png": "[encoded data removed]",
      "text/latex": [
       "$\\displaystyle \\frac{0.612387419519202 \\sqrt{2} t}{\\sqrt{\\pi}} - \\frac{0.440597223031023 \\sqrt{2} \\left(2 t^{2} - 1\\right)}{\\sqrt{\\pi}} - \\frac{0.171790196488179 \\sqrt{2} \\left(4 t^{3} - 3 t\\right)}{\\sqrt{\\pi}} + \\frac{0.149546732867026 \\sqrt{2} \\left(8 t^{4} - 8 t^{2} + 1\\right)}{\\sqrt{\\pi}} - \\frac{0.866046594110717}{\\sqrt{\\pi}}$"
      ],
      "text/plain": [
       "                                              ⎛   2    ⎞                      \n",
       "0.612387419519202⋅√2⋅t   0.440597223031023⋅√2⋅⎝2⋅t  - 1⎠   0.171790196488179⋅√\n",
       "────────────────────── - ─────────────────────────────── - ───────────────────\n",
       "          √π                            √π                                 √π \n",
       "\n",
       "  ⎛   3      ⎞                        ⎛   4      2    ⎞                    \n",
       "2⋅⎝4⋅t  - 3⋅t⎠   0.149546732867026⋅√2⋅⎝8⋅t  - 8⋅t  + 1⎠   0.866046594110717\n",
       "────────────── + ────────────────────────────────────── - ─────────────────\n",
       "                                   √π                             √π       "
      ]
     },
     "execution_count": 151,
     "metadata": {},
     "output_type": "execute_result"
    }
   ],
   "source": [
    "s_k[4]"
   ]
  },
  {
   "cell_type": "markdown",
   "metadata": {},
   "source": [
    "**Подтвердим сходимость на рисунке ниже:**"
   ]
  },
  {
   "cell_type": "code",
   "execution_count": 152,
   "metadata": {},
   "outputs": [
    {
     "data": {
      "image/png": "[encoded data removed]",
      "text/plain": [
       "<Figure size 1080x576 with 1 Axes>"
      ]
     },
     "metadata": {
      "needs_background": "light"
     },
     "output_type": "display_data"
    }
   ],
   "source": [
    "import math as mat\n",
    "import matplotlib.pyplot as plt\n",
    "%matplotlib inline\n",
    "\n",
    "f = symbols('f')\n",
    "f = (t-2*t**2)*exp(-t**2)\n",
    "\n",
    "x = np.arange(-1, 1, 0.01)\n",
    "\n",
    "y1 = [f.subs(t, val) for val in x]\n",
    "y2 = [s_k[4].subs(t, val) for val in x]\n",
    "\n",
    "plt.figure(figsize=(15,8))\n",
    "plt.xlabel('t', fontsize = 20)\n",
    "plt.ylabel('f(t)', fontsize = 20)\n",
    "plt.plot(x, y1, x, y2, 'r--')\n",
    "plt.legend(['x(t)', 'Cheb_4(t)'], fontsize = 20)\n",
    "plt.grid()\n",
    "plt.show()"
   ]
  },
  {
   "cell_type": "markdown",
   "metadata": {},
   "source": [
    "### Б) Аппроксимация многочленом Тейлора"
   ]
  },
  {
   "cell_type": "markdown",
   "metadata": {},
   "source": [
    "**Составим для функии $x$ многочлен Тейлора 4-ой степени в точке $t_0 = 0$:**\n",
    "\n",
    "$$\n",
    "Taylor_4(t) = x(0) + \\frac{x^{'}(0)}{1!}t + \\frac{x^{''}(0)}{2!}t^2 + \\frac{x^{'''}(0)}{3!}t^3 + \\frac{x^{''''}(0)}{4!}t^4\n",
    "$$"
   ]
  },
  {
   "cell_type": "markdown",
   "metadata": {},
   "source": [
    "Функция для нахождения многочлена Тейлора n-ой степени в точке $t_0$"
   ]
  },
  {
   "cell_type": "code",
   "execution_count": 153,
   "metadata": {},
   "outputs": [],
   "source": [
    "from inspect import *\n",
    "\n",
    "def f(x):\n",
    "    y = (x - 2*x**2)*exp(-x**2)\n",
    "    return y\n",
    "\n",
    "x = symbols('x')\n",
    "\n",
    "def get_polynomial(function, t0, degree):\n",
    "    lines_list  = getsource(function).split(\"\\n\")\n",
    "    for line in lines_list:\n",
    "        if '=' in line:\n",
    "            func_def = line\n",
    "\n",
    "    elements = func_def.split('=')\n",
    "    line = ' '.join(elements[1:])\n",
    "    sympy_function = sympify(line)\n",
    "    \n",
    "    i = 0\n",
    "    taylor_exp = Integer(0)\n",
    "    while i <= degree:\n",
    "        taylor_exp = taylor_exp + (diff(sympy_function,x,i).subs(x,t0))/(factorial(i))*(x-t0)**i\n",
    "        i += 1\n",
    "    return taylor_exp\n",
    "\n",
    "taylor_4 = symbols('taylor_4')\n",
    "taylor_4 = get_polynomial(f,0,4).subs(x,t)"
   ]
  },
  {
   "cell_type": "markdown",
   "metadata": {},
   "source": [
    "Таким образом, получаем:"
   ]
  },
  {
   "cell_type": "code",
   "execution_count": 154,
   "metadata": {},
   "outputs": [
    {
     "data": {
      "image/png": "[encoded data removed]",
      "text/latex": [
       "$\\displaystyle 2 t^{4} - t^{3} - 2 t^{2} + t$"
      ],
      "text/plain": [
       "   4    3      2    \n",
       "2⋅t  - t  - 2⋅t  + t"
      ]
     },
     "execution_count": 154,
     "metadata": {},
     "output_type": "execute_result"
    }
   ],
   "source": [
    "taylor_4"
   ]
  },
  {
   "cell_type": "markdown",
   "metadata": {},
   "source": [
    "**Подтвердим сходимость на рисунке ниже:**"
   ]
  },
  {
   "cell_type": "code",
   "execution_count": 155,
   "metadata": {},
   "outputs": [
    {
     "data": {
      "image/png": "[encoded data removed]",
      "text/plain": [
       "<Figure size 1080x576 with 1 Axes>"
      ]
     },
     "metadata": {
      "needs_background": "light"
     },
     "output_type": "display_data"
    }
   ],
   "source": [
    "x = np.arange(-1, 1.1, 0.1)\n",
    "\n",
    "y1 = [f(t).subs(t,val) for val in x]\n",
    "y2 = [taylor_4.subs(t, val) for val in x]\n",
    "\n",
    "plt.figure(figsize=(15,8))\n",
    "plt.xlabel('t', fontsize = 20)\n",
    "plt.ylabel('f(t)', fontsize = 20)\n",
    "plt.plot(x, y1, x, y2, 'r--')\n",
    "plt.legend(['x(t)', 'Taylor_4(t)'], fontsize = 20)\n",
    "plt.grid()\n",
    "plt.show()"
   ]
  },
  {
   "cell_type": "markdown",
   "metadata": {},
   "source": [
    "## Выводы:\n",
    "\n",
    "По графикам можно предположить, что многочлены Чебышёва I рода в целом лучше\n",
    "аппроксимируют функцию $x$ на промежутке $[-1;1]$, но вблизи нуля более точную\n",
    "аппроксимацию дает многочлен Тейлора. Подтвердим эти наблюдения численно."
   ]
  },
  {
   "cell_type": "markdown",
   "metadata": {},
   "source": [
    "**Оценим качество аппроксимации вблизи нуля**"
   ]
  },
  {
   "cell_type": "markdown",
   "metadata": {},
   "source": [
    "**Для $t = 0$**"
   ]
  },
  {
   "cell_type": "code",
   "execution_count": 156,
   "metadata": {},
   "outputs": [
    {
     "name": "stdout",
     "output_type": "stream",
     "text": [
      "Cheb:0.0177477162020978\n",
      "Tayl:0\n"
     ]
    }
   ],
   "source": [
    "print(\"Cheb:{0}\".format(abs(f(0) - s_k[4].subs(t,0)).n()))\n",
    "print(\"Tayl:{0}\".format(abs(f(0) - taylor_4.subs(t,0)).n()))"
   ]
  },
  {
   "cell_type": "markdown",
   "metadata": {},
   "source": [
    "$$\n",
    "\\begin{array}{lcl} \n",
    "    |x(0) - Cheb_4(0)| \\approx 0.0177477162020978\\\\ \n",
    "    |x(0) - Taylor_4(0)| \\approx 0\\\\\n",
    "\\end{array} \n",
    "$$\n",
    "\n"
   ]
  },
  {
   "cell_type": "markdown",
   "metadata": {},
   "source": [
    "**Для $t = 0.1$**"
   ]
  },
  {
   "cell_type": "code",
   "execution_count": 157,
   "metadata": {},
   "outputs": [
    {
     "name": "stdout",
     "output_type": "stream",
     "text": [
      "Cheb:0.0239990474691534\n",
      "Tayl:0.00000398669993344203\n"
     ]
    }
   ],
   "source": [
    "print(\"Cheb:{0}\".format(abs(f(0.1) - s_k[4].subs(t,0.1)).n()))\n",
    "print(\"Tayl:{0}\".format(abs(f(0.1) - taylor_4.subs(t,0.1)).n()))"
   ]
  },
  {
   "cell_type": "markdown",
   "metadata": {},
   "source": [
    "$$\n",
    "\\begin{array}{lcl} \n",
    "    |x(0.1) - Cheb_4(0.1)| \\approx 0.0239990474691534\\\\ \n",
    "    |x(0.1) - Taylor_4(0.1)| \\approx 0.00000398669993344203\\\\\n",
    "\\end{array} \n",
    "$$\n",
    "\n"
   ]
  },
  {
   "cell_type": "markdown",
   "metadata": {},
   "source": [
    "**Для $t = 0.2$**"
   ]
  },
  {
   "cell_type": "code",
   "execution_count": 158,
   "metadata": {},
   "outputs": [
    {
     "name": "stdout",
     "output_type": "stream",
     "text": [
      "Cheb:0.0222435859534278\n",
      "Tayl:0.0000947326982787960\n"
     ]
    }
   ],
   "source": [
    "print(\"Cheb:{0}\".format(abs(f(0.2) - s_k[4].subs(t,0.2)).n()))\n",
    "print(\"Tayl:{0}\".format(abs(f(0.2) - taylor_4.subs(t,0.2)).n()))"
   ]
  },
  {
   "cell_type": "markdown",
   "metadata": {},
   "source": [
    "$$\n",
    "\\begin{array}{lcl} \n",
    "    |x(0.2) - Cheb_4(0.2)| \\approx 0.0222435859534278\\\\ \n",
    "    |x(0.2) - Taylor_4(0.2)| \\approx 0.0000947326982787960\\\\\n",
    "\\end{array} \n",
    "$$\n",
    "\n"
   ]
  },
  {
   "cell_type": "markdown",
   "metadata": {},
   "source": [
    "Действительно, вблизи нуля значения многочлена Тейлора гораздо ближе к значениям\n",
    "функции $x$, чем значения аппроксимации многочленами Чебышёва"
   ]
  },
  {
   "cell_type": "markdown",
   "metadata": {},
   "source": [
    "**Оценим качество равномерной аппроксимации на промежутке $[-1;1]$, вычислив расстояния в метрике $C[-1;1]$**"
   ]
  },
  {
   "cell_type": "code",
   "execution_count": 160,
   "metadata": {},
   "outputs": [],
   "source": [
    "func, x_t = symbols('func x_t')\n",
    "x_t = (t-2*t**2)*exp(-t**2)\n",
    "\n",
    "func = abs(x_t - s_k[4])\n",
    "max_cheb = [func.subs(t, val) for val in x]\n",
    "\n",
    "func = abs(x_t - taylor_4)\n",
    "max_tayl = [func.subs(t, val) for val in x]"
   ]
  },
  {
   "cell_type": "code",
   "execution_count": 161,
   "metadata": {},
   "outputs": [
    {
     "data": {
      "image/png": "[encoded data removed]",
      "text/latex": [
       "$\\displaystyle 0.0312534419450192$"
      ],
      "text/plain": [
       "0.0312534419450192"
      ]
     },
     "execution_count": 161,
     "metadata": {},
     "output_type": "execute_result"
    }
   ],
   "source": [
    "max(max_cheb).n()"
   ]
  },
  {
   "cell_type": "code",
   "execution_count": 162,
   "metadata": {},
   "outputs": [
    {
     "data": {
      "image/png": "[encoded data removed]",
      "text/latex": [
       "$\\displaystyle 1.10363832351433$"
      ],
      "text/plain": [
       "1.10363832351433"
      ]
     },
     "execution_count": 162,
     "metadata": {},
     "output_type": "execute_result"
    }
   ],
   "source": [
    "max(max_tayl).n()"
   ]
  },
  {
   "cell_type": "markdown",
   "metadata": {},
   "source": [
    "Получаем значения:"
   ]
  },
  {
   "cell_type": "markdown",
   "metadata": {},
   "source": [
    "$$\n",
    "\\begin{array}{lcl} \n",
    "    ||x - Cheb_4||_{C[-1;1]} = \\max\\limits_{t \\in [-1;1]}|x(t) - Cheb_4(t)| \\approx 0.0312534419450192\\\\ \n",
    "    ||x - Taylor_4||_{C[-1;1]} = \\max\\limits_{t \\in [-1;1]}|x(t) - Taylor_4(t)| \\approx 1.10363832351433\\\\ \n",
    "\\end{array} \n",
    "$$\n",
    "\n"
   ]
  },
  {
   "cell_type": "markdown",
   "metadata": {},
   "source": [
    "**Таким образом, многочлены Чебышёва дают более точную равномерную аппроксимацию функции $x$ на промежутке $[-1;1]$**"
   ]
  },
  {
   "cell_type": "markdown",
   "metadata": {},
   "source": [
    "**P.S.**\n",
    "При решении были задействованы высокоуровневый язык программирования Python 3 и его библиотеки: sympy, numpy, matplotlib, math"
   ]
  }
 ],
 "metadata": {
  "kernelspec": {
   "display_name": "Python 3",
   "language": "python",
   "name": "python3"
  },
  "language_info": {
   "codemirror_mode": {
    "name": "ipython",
    "version": 3
   },
   "file_extension": ".py",
   "mimetype": "text/x-python",
   "name": "python",
   "nbconvert_exporter": "python",
   "pygments_lexer": "ipython3",
   "version": "3.7.6"
  },
  "latex_envs": {
   "LaTeX_envs_menu_present": true,
   "autoclose": false,
   "autocomplete": true,
   "bibliofile": "biblio.bib",
   "cite_by": "apalike",
   "current_citInitial": 1,
   "eqLabelWithNumbers": true,
   "eqNumInitial": 1,
   "hotkeys": {
    "equation": "Ctrl-E",
    "itemize": "Ctrl-I"
   },
   "labels_anchors": false,
   "latex_user_defs": false,
   "report_style_numbering": false,
   "user_envs_cfg": false
  }
 },
 "nbformat": 4,
 "nbformat_minor": 4
}
