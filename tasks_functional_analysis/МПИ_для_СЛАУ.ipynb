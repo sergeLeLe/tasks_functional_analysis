{
 "cells": [
  {
   "cell_type": "markdown",
   "metadata": {},
   "source": [
    "16) Дана система линейных алгебраических уравнений с четырьмя неизвестными.\n",
    "1. Преобразовать систему к виду, пригодному для приминения принципа сжимающих операторов\n",
    "2. Методом простых итераций найти приближенные решения с точностью $10^{-2}$ и с точностью $10^{-4}$, используя априорную и апостериорную оценки числа итераций.\n",
    "3. Найти точное решение системы и сравнить с приближенным."
   ]
  },
  {
   "cell_type": "markdown",
   "metadata": {},
   "source": [
    "$$\n",
    "\\begin{cases}\n",
    "           2x_1 + x_2 + 2x_3 + 3x_4 = 8\\\\\n",
    "           3x_1 + 3x_3 = 6\\\\\n",
    "           2x_1 - x_2 + 3x_4 = 4\\\\\n",
    "           x_1 + 2x_2 - x_3 + 2x_4 = 4\n",
    "\\end{cases}\n",
    "$$"
   ]
  },
  {
   "cell_type": "markdown",
   "metadata": {},
   "source": [
    " "
   ]
  },
  {
   "cell_type": "markdown",
   "metadata": {},
   "source": [
    "### Вычисления"
   ]
  },
  {
   "cell_type": "code",
   "execution_count": 11,
   "metadata": {},
   "outputs": [
    {
     "name": "stdout",
     "output_type": "stream",
     "text": [
      "Матрица A\n",
      " [[ 2  1  2  3]\n",
      " [ 3  0  3  0]\n",
      " [ 2 -1  0  3]\n",
      " [ 1  2 -1  2]] \n",
      "\n",
      "Определитель матрицы = -59.999999999999986 \n",
      "\n",
      "Матрица A транспонированная\n",
      " [[ 2  3  2  1]\n",
      " [ 1  0 -1  2]\n",
      " [ 2  3  0 -1]\n",
      " [ 3  0  3  2]] \n",
      "\n",
      "ATA\n",
      " [[18  2 12 14]\n",
      " [ 2  6  0  4]\n",
      " [12  0 14  4]\n",
      " [14  4  4 22]] \n",
      "\n",
      "Собственные числа ATA\n",
      " (array([39.54966651, 14.19628478,  1.29224714,  4.96180157]), array([[ 0.64824057,  0.22045953,  0.72803426,  0.03388032],\n",
      "       [ 0.11438303, -0.25212811,  0.0192103 , -0.96071791],\n",
      "       [ 0.40391597,  0.7034755 , -0.56578888, -0.14784131],\n",
      "       [ 0.63525788, -0.62685822, -0.38662647,  0.23241379]]))\n",
      "\n",
      "Матрица С =\n",
      " [[ 0.54487606 -0.05056933 -0.30341596 -0.35398529]\n",
      " [-0.05056933  0.84829202  0.         -0.10113865]\n",
      " [-0.30341596  0.          0.64601471 -0.10113865]\n",
      " [-0.35398529 -0.10113865 -0.10113865  0.44373741]]\n",
      "\n",
      "Матрица d =\n",
      " [1.16309451 0.30341596 0.7585399  1.11252518]\n",
      "\n",
      "Собственные числа матрицы C\n",
      " (array([-1.11022302e-15,  6.41051720e-01,  9.67325966e-01,  8.74542518e-01]), array([[ 0.64824057,  0.22045953,  0.72803426,  0.03388032],\n",
      "       [ 0.11438303, -0.25212811,  0.0192103 , -0.96071791],\n",
      "       [ 0.40391597,  0.7034755 , -0.56578888, -0.14784131],\n",
      "       [ 0.63525788, -0.62685822, -0.38662647,  0.23241379]]))\n",
      "\n",
      "Коэффициент сжатия a = 0.9673259662010996 \n",
      "\n"
     ]
    }
   ],
   "source": [
    "import numpy as np\n",
    "import math as mat\n",
    "import matplotlib.pyplot as plt\n",
    "\n",
    "a = np.array([[2, 1, 2, 3],\n",
    "             [3, 0, 3, 0],\n",
    "             [2, -1, 0, 3],\n",
    "             [1, 2, -1, 2]])\n",
    "\n",
    "b = np.array([8,6,4,4])\n",
    "\n",
    "print('Матрица A\\n', a, '\\n')\n",
    "print(\"Определитель матрицы =\", np.linalg.det(a), '\\n')\n",
    "\n",
    "at = a.T\n",
    "print('Матрица A транспонированная\\n', at, '\\n')\n",
    "\n",
    "ata = a.T.dot(a)\n",
    "print('ATA\\n',ata, '\\n')\n",
    "\n",
    "#первый массив - собс. числа, второй массив - собс. векторы\n",
    "l_ata = np.linalg.eig(ata)\n",
    "print('Собственные числа ATA\\n',l_ata)\n",
    "\n",
    "c = np.eye(4) - ata / l_ata[0][0]\n",
    "print('\\nМатрица С =\\n',c)\n",
    "\n",
    "d = at.dot(b) / l_ata[0][0]\n",
    "print('\\nМатрица d =\\n', d)\n",
    "\n",
    "l_c = np.linalg.eig(c)\n",
    "print('\\nСобственные числа матрицы C\\n',l_c)\n",
    "\n",
    "alfa = l_c[0][2]\n",
    "print('\\nКоэффициент сжатия a =', alfa, '\\n')"
   ]
  },
  {
   "cell_type": "code",
   "execution_count": 12,
   "metadata": {},
   "outputs": [
    {
     "name": "stdout",
     "output_type": "stream",
     "text": [
      "x0 =  [0 0 0 0]\n",
      "x1 =  [1.16309451 0.30341596 0.7585399  1.11252518]\n",
      "p =  1.8049778794631721\n",
      "napr_e1 =  260.0\n",
      "napr_e2 =  399.0\n",
      "Точное решение СЛАУ = [1. 1. 1. 1.]\n",
      "Итерационные решения:\n",
      "x_ 91  =  [1.00726783 1.00018769 0.99435132 0.99614144]\n",
      "P2(x_ 91 , x) =  0.00998261979295268\n",
      "x_ 231  =  [1.00007178 1.00000189 0.99994421 0.99996188]\n",
      "P2(x_ 231 , x) =  9.859844369884235e-05\n",
      "\n"
     ]
    }
   ],
   "source": [
    "import numpy as np\n",
    "import math as mat\n",
    "import matplotlib.pyplot as plt\n",
    "\n",
    "e1 = 10**(-2)\n",
    "e2 = 10**(-4)\n",
    "\n",
    "x0 = np.array([0,0,0,0])\n",
    "print('x0 = ',x0)\n",
    "\n",
    "x1 = c.dot(x0) + d\n",
    "print('x1 = ', x1)\n",
    "\n",
    "#расстояние\n",
    "p = np.sqrt(np.sum((x0 - x1)**2))\n",
    "print('p = ', p)\n",
    "\n",
    "#априорная оценка числа итераций\n",
    "napr_e1 = np.around(np.log((e1*(1-alfa))/p)/(np.log(alfa))) + 1 #log_a(value)\n",
    "print('napr_e1 = ', napr_e1)\n",
    "\n",
    "napr_e2 = np.around(np.log((e2*(1-alfa))/p)/(np.log(alfa))) + 1 #log_a(value)\n",
    "print('napr_e2 = ', napr_e2)\n",
    "\n",
    "xn_1 = x0\n",
    "xn = [0,0,0,0]\n",
    "\n",
    "#коэф. для условия\n",
    "comparable = alfa/(1-alfa)\n",
    "\n",
    "e = [e1,e2]\n",
    "\n",
    "#решение слау\n",
    "x = np.linalg.solve(a,b)\n",
    "print('Точное решение СЛАУ =', x)\n",
    "\n",
    "#апостериорная оценка\n",
    "count = 0\n",
    "print('Итерационные решения:')\n",
    "for i in e:\n",
    "    while True:\n",
    "        count += 1\n",
    "        xn = c.dot(xn_1) + d\n",
    "        if ((comparable * np.sqrt(np.sum((xn - xn_1)**2))) <= i):\n",
    "            print('x_',count,' = ',xn)\n",
    "            print('P2(x_',count,', x) = ', np.sqrt(np.sum((xn - x)**2)))\n",
    "            break\n",
    "        xn_1 = xn\n",
    "\n",
    "print()"
   ]
  },
  {
   "cell_type": "code",
   "execution_count": 13,
   "metadata": {},
   "outputs": [
    {
     "name": "stdout",
     "output_type": "stream",
     "text": [
      "xn =  [1.00002739 1.00000072 0.99997871 0.99998545]\n"
     ]
    }
   ],
   "source": [
    "#проверка априорной оценки\n",
    "xn_1 = [0,0,0,0]\n",
    "xn = [0,0,0,0]\n",
    "\n",
    "for i in range(1, 260):\n",
    "    xn = c.dot(xn_1) + d\n",
    "    xn_1 = xn\n",
    "print('xn = ', xn)"
   ]
  },
  {
   "cell_type": "code",
   "execution_count": null,
   "metadata": {},
   "outputs": [],
   "source": []
  }
 ],
 "metadata": {
  "kernelspec": {
   "display_name": "Python 3",
   "language": "python",
   "name": "python3"
  },
  "language_info": {
   "codemirror_mode": {
    "name": "ipython",
    "version": 3
   },
   "file_extension": ".py",
   "mimetype": "text/x-python",
   "name": "python",
   "nbconvert_exporter": "python",
   "pygments_lexer": "ipython3",
   "version": "3.7.6"
  },
  "latex_envs": {
   "LaTeX_envs_menu_present": true,
   "autoclose": false,
   "autocomplete": true,
   "bibliofile": "biblio.bib",
   "cite_by": "apalike",
   "current_citInitial": 1,
   "eqLabelWithNumbers": true,
   "eqNumInitial": 1,
   "hotkeys": {
    "equation": "Ctrl-E",
    "itemize": "Ctrl-I"
   },
   "labels_anchors": false,
   "latex_user_defs": false,
   "report_style_numbering": false,
   "user_envs_cfg": false
  }
 },
 "nbformat": 4,
 "nbformat_minor": 4
}
