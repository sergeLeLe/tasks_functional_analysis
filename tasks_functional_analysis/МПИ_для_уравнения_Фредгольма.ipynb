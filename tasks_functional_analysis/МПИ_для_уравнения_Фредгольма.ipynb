{
 "cells": [
  {
   "cell_type": "markdown",
   "metadata": {},
   "source": [
    "19) В пространстве $C[0;1]$ дано интегральное уравнение Фредгольма с вырожденным ядром, содержащее числовой параметр $\\lambda > 0$.\n",
    "1. Определить, при каких значениях параметра $\\lambda $ к этому уравнению применим принцип сжимающих операторов.\n",
    "2. Взять любое подходящее значение $\\lambda $ и методом простых итераций найти приближенное решение этого уравнения с указанной точностью $\\epsilon $, используя априорную оценку числа итераций.\n",
    "3. Найти точное решение этого уравнения и сравнить с приближенным."
   ]
  },
  {
   "cell_type": "markdown",
   "metadata": {},
   "source": [
    "$$\n",
    "x(t) = \\lambda \\int_0^1 ts^2 x(s) ds - t^2, \\epsilon = 10^{-4}\n",
    "$$"
   ]
  },
  {
   "cell_type": "code",
   "execution_count": 3,
   "metadata": {},
   "outputs": [
    {
     "name": "stdout",
     "output_type": "stream",
     "text": [
      "e =  0.0001\n",
      "p =  1.6666666666666667\n",
      "napr =  10.0\n",
      "xn =  -t**2 - 1048567*t/3932160\n"
     ]
    }
   ],
   "source": [
    "from sympy import *\n",
    "import math as mat\n",
    "import numpy as np\n",
    "import math as mat\n",
    "init_printing()\n",
    "\n",
    "#точность\n",
    "e = 10**(-4)\n",
    "print ('e = ', e)\n",
    "\n",
    "#расстояние\n",
    "p = 5/3\n",
    "print('p = ', p)\n",
    "\n",
    "alfa = 1/3\n",
    "\n",
    "#априорная оценка числа итераций\n",
    "napr = np.around(np.log((e*(1-alfa))/p)/(np.log(alfa))) + 1  #log_a(value)\n",
    "print('napr = ', napr)\n",
    "\n",
    "t,s = symbols('t s')\n",
    "xn_1, xn = symbols('xn_1, xn')\n",
    "xn_1 = 1\n",
    "xn \n",
    "\n",
    "for i in range(1, int(napr + 1)):\n",
    "    xn =  integrate(t*(s**2)*xn_1,(s,0,1)) - t**2\n",
    "    xn_1 = xn.subs(t,s)\n",
    "    \n",
    "\n",
    "\n",
    "print('xn = ', xn.subs(s,t))"
   ]
  },
  {
   "cell_type": "code",
   "execution_count": 4,
   "metadata": {},
   "outputs": [
    {
     "data": {
      "image/png": "[encoded data removed]",
      "text/latex": [
       "$\\displaystyle - t^{2} - \\frac{1048567 t}{3932160}$"
      ],
      "text/plain": [
       "   2   1048567⋅t\n",
       "- t  - ─────────\n",
       "        3932160 "
      ]
     },
     "execution_count": 4,
     "metadata": {},
     "output_type": "execute_result"
    }
   ],
   "source": [
    "xn"
   ]
  },
  {
   "cell_type": "code",
   "execution_count": 5,
   "metadata": {},
   "outputs": [
    {
     "data": {
      "image/png": "[encoded data removed]",
      "text/latex": [
       "$\\displaystyle -2.2888183593972 \\cdot 10^{-6}$"
      ],
      "text/plain": [
       "-2.28881835939720e-6"
      ]
     },
     "execution_count": 5,
     "metadata": {},
     "output_type": "execute_result"
    }
   ],
   "source": [
    "r = symbols('r')\n",
    "r = -t**2 - (4/15)*t - xn\n",
    "r.subs(t, 1)"
   ]
  },
  {
   "cell_type": "code",
   "execution_count": 5,
   "metadata": {},
   "outputs": [
    {
     "data": {
      "image/png": "[encoded data removed]",
      "text/latex": [
       "$\\displaystyle \\pi$"
      ],
      "text/plain": [
       "π"
      ]
     },
     "execution_count": 5,
     "metadata": {},
     "output_type": "execute_result"
    }
   ],
   "source": []
  },
  {
   "cell_type": "code",
   "execution_count": null,
   "metadata": {},
   "outputs": [],
   "source": []
  }
 ],
 "metadata": {
  "kernelspec": {
   "display_name": "Python 3",
   "language": "python",
   "name": "python3"
  },
  "language_info": {
   "codemirror_mode": {
    "name": "ipython",
    "version": 3
   },
   "file_extension": ".py",
   "mimetype": "text/x-python",
   "name": "python",
   "nbconvert_exporter": "python",
   "pygments_lexer": "ipython3",
   "version": "3.7.6"
  },
  "latex_envs": {
   "LaTeX_envs_menu_present": true,
   "autoclose": false,
   "autocomplete": true,
   "bibliofile": "biblio.bib",
   "cite_by": "apalike",
   "current_citInitial": 1,
   "eqLabelWithNumbers": true,
   "eqNumInitial": 1,
   "hotkeys": {
    "equation": "Ctrl-E",
    "itemize": "Ctrl-I"
   },
   "labels_anchors": false,
   "latex_user_defs": false,
   "report_style_numbering": false,
   "user_envs_cfg": false
  }
 },
 "nbformat": 4,
 "nbformat_minor": 4
}
